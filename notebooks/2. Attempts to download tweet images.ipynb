{
 "cells": [
  {
   "cell_type": "markdown",
   "metadata": {},
   "source": [
    "## Data fetching notebook"
   ]
  },
  {
   "cell_type": "markdown",
   "metadata": {},
   "source": [
    "### Imports"
   ]
  },
  {
   "cell_type": "code",
   "execution_count": 1,
   "metadata": {},
   "outputs": [],
   "source": [
    "import os\n",
    "import re \n",
    "import wget # for downloading files in python\n",
    "import tweepy \n",
    "from textblob import TextBlob "
   ]
  },
  {
   "cell_type": "code",
   "execution_count": 2,
   "metadata": {},
   "outputs": [],
   "source": [
    "os.chdir('..')\n",
    "from data_fetching.keys import API_KEY, API_SECRET_KEY, ACCESS_TOKEN, ACCESS_TOKEN_SECRET"
   ]
  },
  {
   "cell_type": "markdown",
   "metadata": {},
   "source": [
    "### Parameters"
   ]
  },
  {
   "cell_type": "code",
   "execution_count": 5,
   "metadata": {},
   "outputs": [],
   "source": [
    "TEST_SCREEN_NAME = 'Charlanardo'\n",
    "\n",
    "DATA_SAVE_LOC = os.getcwd()+\"\\\\data\\\\images-test\\\\\""
   ]
  },
  {
   "cell_type": "code",
   "execution_count": 6,
   "metadata": {},
   "outputs": [],
   "source": [
    "# Create and authenticate an API object\n",
    "auth = tweepy.OAuthHandler(API_KEY, API_SECRET_KEY)\n",
    "auth.set_access_token(ACCESS_TOKEN, ACCESS_TOKEN_SECRET)\n",
    "api = tweepy.API(auth)"
   ]
  },
  {
   "cell_type": "code",
   "execution_count": 7,
   "metadata": {},
   "outputs": [
    {
     "data": {
      "text/plain": [
       "'OllieSmith4'"
      ]
     },
     "execution_count": 7,
     "metadata": {},
     "output_type": "execute_result"
    }
   ],
   "source": [
    "user = api.me()\n",
    "user.screen_name"
   ]
  },
  {
   "cell_type": "code",
   "execution_count": 8,
   "metadata": {},
   "outputs": [
    {
     "name": "stdout",
     "output_type": "stream",
     "text": [
      "@Charlanardo Wish ederson was that keeper instead. 1129785856917745666 2019-05-18 16:28:33\n",
      "@Charlanardo @GIVEUPOX17 Can’t wait to see what happens :) 1129440259127877632 2019-05-17 17:35:16\n",
      "@Charlanardo Thank you for the feedback, we’ll be sure to pass it on to the team making the product. 1129437137013760002 2019-05-17 17:22:52\n",
      "@Charlanardo Let’s be honest it was completely out of the blue. 1129076404140822528 2019-05-16 17:29:26\n",
      "@Charlanardo Haha, it was a joke mate. Would give everything to have a player like Ruud now. 1129032473076281346 2019-05-16 14:34:52\n",
      "@Charlanardo Tbf he tapped it in at the end. 🙄 1128973791391096832 2019-05-16 10:41:41\n",
      "@Charlanardo Saw Leeds fans walking past on my way to the station after work, not the best looking bunch. 1128768167331995654 2019-05-15 21:04:37\n",
      "@Charlanardo Straight red nowadays with VAR 1128758312537923586 2019-05-15 20:25:27\n",
      "@Charlanardo Not watched any others though 1128755608935645184 2019-05-15 20:14:43\n",
      "@Charlanardo Sarcy? 1128755433479528448 2019-05-15 20:14:01\n",
      "@jccage @Charlanardo Yeah can’t argue with that 1128751952668626944 2019-05-15 20:00:11\n",
      "@Charlanardo @Jaack yes correct, we have more chance of getting stabbed ! 1128593765139197952 2019-05-15 09:31:36\n",
      "@Charlanardo Chongle we all know you're a tory 1128383648682729476 2019-05-14 19:36:40\n",
      "@Charlanardo Look at how they've done since mid Dec 1128199980479467520 2019-05-14 07:26:50\n",
      "@Charlanardo @shcock @SolskCR Yup 1127699761270751233 2019-05-12 22:19:09\n"
     ]
    }
   ],
   "source": [
    "example = tweepy.Cursor(api.search, q='@'+TEST_SCREEN_NAME, show_user=False).items(15)\n",
    "\n",
    "for tweet in example:\n",
    "\n",
    "    print(tweet.text, tweet.id_str, tweet.created_at)"
   ]
  },
  {
   "cell_type": "code",
   "execution_count": 9,
   "metadata": {},
   "outputs": [],
   "source": [
    "def get_url_from_tweet_id(tweet_id):\n",
    "    return 'https://twitter.com/statuses/'+str(tweet_id)"
   ]
  },
  {
   "cell_type": "code",
   "execution_count": 10,
   "metadata": {},
   "outputs": [],
   "source": [
    "tweets = api.user_timeline(screen_name=TEST_SCREEN_NAME,\n",
    "                           count=200, include_rts=False,\n",
    "                           exclude_replies=True)"
   ]
  },
  {
   "cell_type": "code",
   "execution_count": 11,
   "metadata": {},
   "outputs": [],
   "source": [
    "media_files = set()\n",
    "for tweet in tweets:\n",
    "    media = tweet.entities.get('media', [])\n",
    "    if(len(media) > 0):\n",
    "        media_files.add(media[0]['media_url'])"
   ]
  },
  {
   "cell_type": "code",
   "execution_count": 12,
   "metadata": {},
   "outputs": [
    {
     "data": {
      "text/plain": [
       "{'http://pbs.twimg.com/tweet_video_thumb/D6orhLEXsAAcdWj.jpg'}"
      ]
     },
     "execution_count": 12,
     "metadata": {},
     "output_type": "execute_result"
    }
   ],
   "source": [
    "media_files"
   ]
  },
  {
   "cell_type": "code",
   "execution_count": 14,
   "metadata": {},
   "outputs": [],
   "source": [
    "current_downloaded_files = os.listdir(DATA_SAVE_LOC)"
   ]
  },
  {
   "cell_type": "code",
   "execution_count": 15,
   "metadata": {},
   "outputs": [
    {
     "data": {
      "text/plain": [
       "['D6orhLEXsAAcdWj.jpg']"
      ]
     },
     "execution_count": 15,
     "metadata": {},
     "output_type": "execute_result"
    }
   ],
   "source": [
    "current_downloaded_files"
   ]
  },
  {
   "cell_type": "code",
   "execution_count": 16,
   "metadata": {},
   "outputs": [
    {
     "name": "stdout",
     "output_type": "stream",
     "text": [
      "File already downloaded: D6orhLEXsAAcdWj.jpg\n"
     ]
    }
   ],
   "source": [
    "for media_file in media_files:\n",
    "    if media_file.split('/')[-1] in current_downloaded_files:\n",
    "        print('File already downloaded: {}'.format(media_file.split('/')[-1]))"
   ]
  },
  {
   "cell_type": "code",
   "execution_count": 17,
   "metadata": {},
   "outputs": [
    {
     "name": "stdout",
     "output_type": "stream",
     "text": [
      "File already downloaded: D6orhLEXsAAcdWj.jpg\n"
     ]
    }
   ],
   "source": [
    "for media_file in media_files:\n",
    "    if media_file.split('/')[-1] in current_downloaded_files:\n",
    "        print('File already downloaded: {}'.format(media_file.split('/')[-1]))\n",
    "    else:\n",
    "        wget.download(media_file, DATA_SAVE_LOC)"
   ]
  },
  {
   "cell_type": "code",
   "execution_count": null,
   "metadata": {},
   "outputs": [],
   "source": []
  }
 ],
 "metadata": {
  "kernelspec": {
   "display_name": "Python 3",
   "language": "python",
   "name": "python3"
  },
  "language_info": {
   "codemirror_mode": {
    "name": "ipython",
    "version": 3
   },
   "file_extension": ".py",
   "mimetype": "text/x-python",
   "name": "python",
   "nbconvert_exporter": "python",
   "pygments_lexer": "ipython3",
   "version": "3.6.5"
  }
 },
 "nbformat": 4,
 "nbformat_minor": 2
}
