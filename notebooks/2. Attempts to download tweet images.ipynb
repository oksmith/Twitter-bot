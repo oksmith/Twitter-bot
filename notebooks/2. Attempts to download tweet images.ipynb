{
 "cells": [
  {
   "cell_type": "markdown",
   "metadata": {},
   "source": [
    "## Data fetching notebook"
   ]
  },
  {
   "cell_type": "markdown",
   "metadata": {},
   "source": [
    "### Imports"
   ]
  },
  {
   "cell_type": "code",
   "execution_count": 1,
   "metadata": {},
   "outputs": [],
   "source": [
    "import os\n",
    "import re \n",
    "import wget # for downloading files in python\n",
    "import tweepy \n",
    "from textblob import TextBlob "
   ]
  },
  {
   "cell_type": "code",
   "execution_count": 2,
   "metadata": {},
   "outputs": [],
   "source": [
    "os.chdir('..')\n",
    "from data_fetching.keys import API_KEY, API_SECRET_KEY, ACCESS_TOKEN, ACCESS_TOKEN_SECRET"
   ]
  },
  {
   "cell_type": "markdown",
   "metadata": {},
   "source": [
    "### Parameters"
   ]
  },
  {
   "cell_type": "code",
   "execution_count": 25,
   "metadata": {},
   "outputs": [],
   "source": [
    "TEST_SCREEN_NAME = 'NatGeo'\n",
    "\n",
    "DATA_SAVE_LOC = os.getcwd()+\"\\\\data\\\\images-test\\\\\""
   ]
  },
  {
   "cell_type": "code",
   "execution_count": 26,
   "metadata": {},
   "outputs": [],
   "source": [
    "# Create and authenticate an API object\n",
    "auth = tweepy.OAuthHandler(API_KEY, API_SECRET_KEY)\n",
    "auth.set_access_token(ACCESS_TOKEN, ACCESS_TOKEN_SECRET)\n",
    "api = tweepy.API(auth)"
   ]
  },
  {
   "cell_type": "code",
   "execution_count": 27,
   "metadata": {},
   "outputs": [
    {
     "data": {
      "text/plain": [
       "'OllieSmith4'"
      ]
     },
     "execution_count": 27,
     "metadata": {},
     "output_type": "execute_result"
    }
   ],
   "source": [
    "user = api.me()\n",
    "user.screen_name"
   ]
  },
  {
   "cell_type": "code",
   "execution_count": 28,
   "metadata": {},
   "outputs": [
    {
     "name": "stdout",
     "output_type": "stream",
     "text": [
      "RT @NatGeo: A new image, which shows a stream of plasma between two galaxy clusters, is the first known sighting of its kind https://t.co/4… 1137123044890165248 2019-06-07 22:23:55\n",
      "RT @NatGeo: Yellowstone National Park's geysers and geothermal features are fascinating to watch—and listen to https://t.co/mG3pCdlL0K 1137122927118299136 2019-06-07 22:23:27\n",
      "RT @NatGeo: What is the moon made of, and how did it form? Learn all about the moon's origins and how humans first explored Earth's only na… 1137122908831191040 2019-06-07 22:23:22\n",
      "RT @elOrdenMundial: La expansión de Shangai en los últimos 200 años es abismal. Relativamente tranquilo hasta los años 80, cuando el gobier… 1137122816837529601 2019-06-07 22:23:00\n",
      "@CamiloPrietoVal @UN @NatGeo ya actualizó la cifra, al día de hoy ya son 9 millones 😕 1137122734897532931 2019-06-07 22:22:41\n",
      "@NatGeo Can you help us figure out which part of Mars is the Moon?\n",
      "\n",
      "Asking for a friend. 1137122603947253760 2019-06-07 22:22:10\n",
      "RT @NatGeo: An ancient lake in Patagonia has yielded an exciting treasure: fossils of a 52-million-year-old tree that is the first of its k… 1137122592719028224 2019-06-07 22:22:07\n",
      "RT @NatGeo: A new image, which shows a stream of plasma between two galaxy clusters, is the first known sighting of its kind https://t.co/4… 1137122519859847168 2019-06-07 22:21:50\n",
      "RT @elOrdenMundial: La expansión de Shangai en los últimos 200 años es abismal. Relativamente tranquilo hasta los años 80, cuando el gobier… 1137122421809537024 2019-06-07 22:21:26\n",
      "@NatGeo Is this the new Mars’ moon invented by @realDonaldTrump , or the regular good old earth’s moon? 1137122346022686720 2019-06-07 22:21:08\n",
      "RT @MDub70Deuce: #LasVegas - Enter to #win a family 4 pack of tickets to see National Geographic Live: On the Trail of Big Cats, a thrillin… 1137122305577050113 2019-06-07 22:20:59\n",
      "RT @elOrdenMundial: La expansión de Shangai en los últimos 200 años es abismal. Relativamente tranquilo hasta los años 80, cuando el gobier… 1137122283426914304 2019-06-07 22:20:53\n",
      "My weekend q&amp;a’s to make @NikkiLM4 faint:\n",
      "Tonight\n",
      "#MorganFreeman for @NatGeo #StoryOfGod at @SidGrauman \n",
      "\n",
      "Tomorrow… https://t.co/aC2puLmNKE 1137122259854692352 2019-06-07 22:20:48\n",
      "RT @NatGeo: Scientists can’t fully assess whatever harm plastics cause to the environment until they learn where they are https://t.co/m1Vp… 1137122249977282560 2019-06-07 22:20:45\n",
      "@NatGeo https://t.co/S0IETV2YAR 1137122145648218120 2019-06-07 22:20:20\n"
     ]
    }
   ],
   "source": [
    "example = tweepy.Cursor(api.search, q='@'+TEST_SCREEN_NAME, show_user=False).items(15)\n",
    "\n",
    "for tweet in example:\n",
    "\n",
    "    print(tweet.text, tweet.id_str, tweet.created_at)"
   ]
  },
  {
   "cell_type": "code",
   "execution_count": 29,
   "metadata": {},
   "outputs": [],
   "source": [
    "def get_url_from_tweet_id(tweet_id):\n",
    "    return 'https://twitter.com/statuses/'+str(tweet_id)"
   ]
  },
  {
   "cell_type": "code",
   "execution_count": 30,
   "metadata": {},
   "outputs": [],
   "source": [
    "tweets = api.user_timeline(screen_name=TEST_SCREEN_NAME,\n",
    "                           count=200, include_rts=False,\n",
    "                           exclude_replies=True)"
   ]
  },
  {
   "cell_type": "code",
   "execution_count": 31,
   "metadata": {},
   "outputs": [],
   "source": [
    "media_files = set()\n",
    "for tweet in tweets:\n",
    "    media = tweet.entities.get('media', [])\n",
    "    if(len(media) > 0):\n",
    "        media_files.add(media[0]['media_url'])"
   ]
  },
  {
   "cell_type": "code",
   "execution_count": 32,
   "metadata": {},
   "outputs": [
    {
     "data": {
      "text/plain": [
       "{'http://pbs.twimg.com/amplify_video_thumb/1136644676503707649/img/7ogYoBTvuHOdy3FM.jpg',\n",
       " 'http://pbs.twimg.com/amplify_video_thumb/956302544837468161/img/WNdgcEDLH3rRIh93.jpg',\n",
       " 'http://pbs.twimg.com/amplify_video_thumb/957002280754130946/img/WbuIb-lgK_5rCJsP.jpg',\n",
       " 'http://pbs.twimg.com/amplify_video_thumb/958831625399390208/img/jm6EuhLPJrs2KChc.jpg',\n",
       " 'http://pbs.twimg.com/amplify_video_thumb/962001378947354624/img/gDkOz9On2cLZyImv.jpg',\n",
       " 'http://pbs.twimg.com/amplify_video_thumb/966435600860508160/img/YW03SSYzks6PS-Zr.jpg',\n",
       " 'http://pbs.twimg.com/amplify_video_thumb/966805094581891073/img/sJr3Ujo5MmEMExk6.jpg',\n",
       " 'http://pbs.twimg.com/amplify_video_thumb/969649205777256448/img/95SHjeclK1OgHO6c.jpg',\n",
       " 'http://pbs.twimg.com/amplify_video_thumb/971423524542808065/img/VqAnIqwPA65OxkZ0.jpg',\n",
       " 'http://pbs.twimg.com/amplify_video_thumb/987448056554643456/img/fGN1rYISZ7PfOyt_.jpg',\n",
       " 'http://pbs.twimg.com/media/D7MsTlXXkAAnPao.jpg',\n",
       " 'http://pbs.twimg.com/media/D7NAi7TW0AAqp-0.jpg',\n",
       " 'http://pbs.twimg.com/media/D7jl4jKW0AYo-gk.jpg',\n",
       " 'http://pbs.twimg.com/media/D7sA50UXYAAOj_j.jpg',\n",
       " 'http://pbs.twimg.com/media/D8HpAw4XkAAFeLV.jpg',\n",
       " 'http://pbs.twimg.com/tweet_video_thumb/D7wo2qEW4AAGwwK.jpg',\n",
       " 'http://pbs.twimg.com/tweet_video_thumb/D8e-7rOXkAA7iL0.jpg'}"
      ]
     },
     "execution_count": 32,
     "metadata": {},
     "output_type": "execute_result"
    }
   ],
   "source": [
    "media_files"
   ]
  },
  {
   "cell_type": "code",
   "execution_count": 33,
   "metadata": {},
   "outputs": [],
   "source": [
    "current_downloaded_files = os.listdir(DATA_SAVE_LOC)"
   ]
  },
  {
   "cell_type": "code",
   "execution_count": 34,
   "metadata": {},
   "outputs": [
    {
     "data": {
      "text/plain": [
       "['D6orhLEXsAAcdWj.jpg']"
      ]
     },
     "execution_count": 34,
     "metadata": {},
     "output_type": "execute_result"
    }
   ],
   "source": [
    "current_downloaded_files"
   ]
  },
  {
   "cell_type": "code",
   "execution_count": 35,
   "metadata": {},
   "outputs": [],
   "source": [
    "for media_file in media_files:\n",
    "    if media_file.split('/')[-1] in current_downloaded_files:\n",
    "        print('File already downloaded: {}'.format(media_file.split('/')[-1]))"
   ]
  },
  {
   "cell_type": "code",
   "execution_count": 36,
   "metadata": {},
   "outputs": [
    {
     "name": "stdout",
     "output_type": "stream",
     "text": [
      "100% [............................................................................] 164098 / 164098"
     ]
    }
   ],
   "source": [
    "for media_file in media_files:\n",
    "    if media_file.split('/')[-1] in current_downloaded_files:\n",
    "        print('File already downloaded: {}'.format(media_file.split('/')[-1]))\n",
    "    else:\n",
    "        wget.download(media_file, DATA_SAVE_LOC)"
   ]
  },
  {
   "cell_type": "code",
   "execution_count": 37,
   "metadata": {
    "scrolled": true
   },
   "outputs": [
    {
     "data": {
      "text/plain": [
       "['7ogYoBTvuHOdy3FM.jpg',\n",
       " '95SHjeclK1OgHO6c.jpg',\n",
       " 'D6orhLEXsAAcdWj.jpg',\n",
       " 'D7jl4jKW0AYo-gk.jpg',\n",
       " 'D7MsTlXXkAAnPao.jpg',\n",
       " 'D7NAi7TW0AAqp-0.jpg',\n",
       " 'D7sA50UXYAAOj_j.jpg',\n",
       " 'D7wo2qEW4AAGwwK.jpg',\n",
       " 'D8e-7rOXkAA7iL0.jpg',\n",
       " 'D8HpAw4XkAAFeLV.jpg',\n",
       " 'fGN1rYISZ7PfOyt_.jpg',\n",
       " 'gDkOz9On2cLZyImv.jpg',\n",
       " 'jm6EuhLPJrs2KChc.jpg',\n",
       " 'sJr3Ujo5MmEMExk6.jpg',\n",
       " 'VqAnIqwPA65OxkZ0.jpg',\n",
       " 'WbuIb-lgK_5rCJsP.jpg',\n",
       " 'WNdgcEDLH3rRIh93.jpg',\n",
       " 'YW03SSYzks6PS-Zr.jpg']"
      ]
     },
     "execution_count": 37,
     "metadata": {},
     "output_type": "execute_result"
    }
   ],
   "source": [
    "os.listdir(DATA_SAVE_LOC)"
   ]
  },
  {
   "cell_type": "markdown",
   "metadata": {},
   "source": [
    "## Let's try neural style transfer. "
   ]
  },
  {
   "cell_type": "markdown",
   "metadata": {},
   "source": [
    "Pretrain a model which has a certain style attached to it, and try putting a bunch of images into that style"
   ]
  },
  {
   "cell_type": "code",
   "execution_count": null,
   "metadata": {},
   "outputs": [],
   "source": []
  }
 ],
 "metadata": {
  "kernelspec": {
   "display_name": "Python 3",
   "language": "python",
   "name": "python3"
  },
  "language_info": {
   "codemirror_mode": {
    "name": "ipython",
    "version": 3
   },
   "file_extension": ".py",
   "mimetype": "text/x-python",
   "name": "python",
   "nbconvert_exporter": "python",
   "pygments_lexer": "ipython3",
   "version": "3.6.5"
  }
 },
 "nbformat": 4,
 "nbformat_minor": 2
}
